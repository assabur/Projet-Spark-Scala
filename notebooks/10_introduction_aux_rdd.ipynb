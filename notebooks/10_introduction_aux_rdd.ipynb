{
 "cells": [
  {
   "cell_type": "markdown",
   "metadata": {},
   "source": [
    "# Une fonction pour simplifier l'accès aux données"
   ]
  },
  {
   "cell_type": "code",
   "execution_count": 5,
   "metadata": {},
   "outputs": [
    {
     "data": {
      "text/plain": [
       "extractField: (s: String, fieldNumber: Int)String\n"
      ]
     },
     "execution_count": 5,
     "metadata": {},
     "output_type": "execute_result"
    }
   ],
   "source": [
    "def extractField(s: String, fieldNumber: Int): String = {\n",
    "    val fields = s.split(';')\n",
    "    if (fieldNumber >= fields.length) \"\" else fields(fieldNumber)\n",
    "}"
   ]
  },
  {
   "cell_type": "code",
   "execution_count": 39,
   "metadata": {},
   "outputs": [
    {
     "data": {
      "text/plain": [
       "extractField1: (s: String, fieldNumber: Int)String\n"
      ]
     },
     "execution_count": 39,
     "metadata": {},
     "output_type": "execute_result"
    }
   ],
   "source": [
    "def extractField1(s: String, fieldNumber: Int): String = {\n",
    "    val fields = s.split(',')\n",
    "    if (fieldNumber >= fields.length) \"\" else fields(fieldNumber)\n",
    "}"
   ]
  },
  {
   "cell_type": "code",
   "execution_count": 6,
   "metadata": {},
   "outputs": [
    {
     "name": "stdout",
     "output_type": "stream",
     "text": [
      "2\n",
      "CASSIOPEE\n",
      "2009\n",
      "33\n",
      "3\n",
      "\n"
     ]
    }
   ],
   "source": [
    "println(extractField(\"2;CASSIOPEE;2009;33;3\", 0))\n",
    "println(extractField(\"2;CASSIOPEE;2009;33;3\", 1))\n",
    "println(extractField(\"2;CASSIOPEE;2009;33;3\", 2))\n",
    "println(extractField(\"2;CASSIOPEE;2009;33;3\", 3))\n",
    "println(extractField(\"2;CASSIOPEE;2009;33;3\", 4))\n",
    "println(extractField(\"2;CASSIOPEE;2009;33;3\", 5))"
   ]
  },
  {
   "cell_type": "markdown",
   "metadata": {},
   "source": [
    "# Charger les données\n",
    "1. Créer le RDD `lignes` à partir du répertoire `prenoms_sample.txt`"
   ]
  },
  {
   "cell_type": "code",
   "execution_count": 53,
   "metadata": {},
   "outputs": [
    {
     "name": "stdout",
     "output_type": "stream",
     "text": [
      "2;MELODIE;1988;75;33\n",
      "2;MELODIE;1992;83;6\n",
      "2;MELODIE;1999;29;4\n",
      "2;MELODIE;2009;21;3\n",
      "2;MÉLODY;1998;17;3\n",
      "2;MIA;2008;60;3\n",
      "2;MIA;2013;54;10\n",
      "2;MICHÈLE;1954;21;40\n",
      "2;MICHÈLE;1971;08;6\n",
      "2;MICHELINE;1926;32;4\n"
     ]
    },
    {
     "data": {
      "text/plain": [
       "lignes: org.apache.spark.rdd.RDD[String] = prenoms_sample.txt MapPartitionsRDD[99] at textFile at <console>:27\n"
      ]
     },
     "execution_count": 53,
     "metadata": {},
     "output_type": "execute_result"
    }
   ],
   "source": [
    "val lignes = sc.textFile(\"prenoms_sample.txt\")\n",
    "lignes.take(10).foreach(println)"
   ]
  },
  {
   "cell_type": "markdown",
   "metadata": {},
   "source": [
    "# Transformer les lignes en prénoms\n",
    "1. En appliquant la méthode `map`, créer le RDD `prenoms` à partir de `lignes`"
   ]
  },
  {
   "cell_type": "code",
   "execution_count": 7,
   "metadata": {},
   "outputs": [
    {
     "name": "stdout",
     "output_type": "stream",
     "text": [
      "(2,MELODIE,1988,75,75)\n",
      "(2,MELODIE,1992,83,83)\n",
      "(2,MELODIE,1999,29,29)\n",
      "(2,MELODIE,2009,21,21)\n",
      "(2,MÉLODY,1998,17,17)\n",
      "(2,MIA,2008,60,60)\n",
      "(2,MIA,2013,54,54)\n",
      "(2,MICHÈLE,1954,21,21)\n",
      "(2,MICHÈLE,1971,8,8)\n",
      "(2,MICHELINE,1926,32,32)\n"
     ]
    },
    {
     "data": {
      "text/plain": [
       "prenoms: org.apache.spark.rdd.RDD[(Char, String, Int, Int, Int)] = MapPartitionsRDD[4] at map at <console>:28\n"
      ]
     },
     "execution_count": 7,
     "metadata": {},
     "output_type": "execute_result"
    }
   ],
   "source": [
    "val prenoms = lignes.map(l => (\n",
    "    extractField(l, 0).charAt(0),\n",
    "    extractField(l, 1),\n",
    "    extractField(l, 2).toInt,\n",
    "    extractField(l, 3).toInt,\n",
    "    extractField(l, 3).toDouble.toInt\n",
    "))\n",
    "prenoms.take(10).foreach(println)\n"
   ]
  },
  {
   "cell_type": "markdown",
   "metadata": {},
   "source": [
    "# Interroger les données\n",
    "La documentation des méthodes d'un RDD est disponible ([RDD](https://spark.apache.org/docs/latest/api/scala/index.html#org.apache.spark.rdd.RDD), [PairRDDFunctions](https://spark.apache.org/docs/latest/api/scala/index.html#org.apache.spark.rdd.PairRDDFunctions)).\n",
    "\n",
    "1. Rappeler ce que sont les *transformations* et les *actions*\n",
    "1. Donner, pour chaque prénom, son nombre d'occurences (`map` et `reduceByKey`)"
   ]
  },
  {
   "cell_type": "code",
   "execution_count": 8,
   "metadata": {},
   "outputs": [
    {
     "name": "stdout",
     "output_type": "stream",
     "text": [
      "(JOVANE,1)\n",
      "(SALAHDINE,3)\n",
      "(JENNYFER,321)\n",
      "(KONA,2)\n",
      "(YUSSRA,1)\n",
      "(NATIVA,1)\n",
      "(MOHAMED-SAÏD,1)\n",
      "(CAGLAR,2)\n",
      "(HAFIZA,2)\n",
      "(PAUL,10622)\n"
     ]
    },
    {
     "data": {
      "text/plain": [
       "rdd1: org.apache.spark.rdd.RDD[String] = prenoms.txt MapPartitionsRDD[6] at textFile at <console>:29\n",
       "rdd2: org.apache.spark.rdd.RDD[(String, Int)] = MapPartitionsRDD[7] at map at <console>:30\n",
       "rdd3: org.apache.spark.rdd.RDD[(String, Int)] = ShuffledRDD[8] at reduceByKey at <console>:31\n"
      ]
     },
     "execution_count": 8,
     "metadata": {},
     "output_type": "execute_result"
    }
   ],
   "source": [
    "//une transformation retourne un nouvel RDD par transformation du RDD courant\n",
    "//une action déclenche le calcul d’une valeur sur un RDD\n",
    "val rdd1 = sc.textFile(\"prenoms.txt\")\n",
    "val rdd2 = rdd1.map(x => (extractField(x, 1),1))\n",
    "val rdd3 = rdd2.reduceByKey((x,y) =>(x+y))\n",
    "rdd3.take(10).foreach(println)\n",
    "\n",
    "\n"
   ]
  },
  {
   "cell_type": "markdown",
   "metadata": {},
   "source": [
    "1. Donner le nombre total de naissances avec un prénom féminin (`filter`, `map`, `reduce` ou `sum`)"
   ]
  },
  {
   "cell_type": "code",
   "execution_count": 39,
   "metadata": {},
   "outputs": [
    {
     "data": {
      "text/plain": [
       "res20: Int = 208359\n"
      ]
     },
     "execution_count": 39,
     "metadata": {},
     "output_type": "execute_result"
    }
   ],
   "source": [
    "//TODO\n",
    "                  \n",
    "prenoms.filter(l=>l._1=='2').map(l=>l._5).reduce((x,y)=>x+y)\n",
    "\n"
   ]
  },
  {
   "cell_type": "markdown",
   "metadata": {},
   "source": [
    "1. Donner l'effectif maximal et minimal par prénom (`map`, `aggregateByKey`)"
   ]
  },
  {
   "cell_type": "code",
   "execution_count": 60,
   "metadata": {},
   "outputs": [
    {
     "name": "stdout",
     "output_type": "stream",
     "text": [
      "(BRICE,(5,16))\n",
      "(LISANDRO,(3,3))\n",
      "(WISSEM,(3,3))\n",
      "(JOËLLE,(3,30))\n",
      "(JENNYFER,(12,12))\n",
      "(JOSUE,(10,13))\n",
      "(NICOLLE,(4,7))\n",
      "(DANIELE,(7,330))\n",
      "(ANNE-SOPHIE,(7,12))\n",
      "(EMMANUEL,(3,48))\n"
     ]
    },
    {
     "data": {
      "text/plain": [
       "resultat_effectif: org.apache.spark.rdd.RDD[(String, (Int, Int))] = ShuffledRDD[101] at aggregateByKey at <console>:35\n"
      ]
     },
     "execution_count": 60,
     "metadata": {},
     "output_type": "execute_result"
    }
   ],
   "source": [
    "//TODO\n",
    "/*val resultat_effectif = prenoms.map(l=>(l._2,l._5)).aggregateByKey((Int.MaxValue,Int.MinValue))(\n",
    "{case((m,n),c)=>(n min c, n max c)},{case((m,n),(m1,n1))=>(m min m1, n max n1)}\n",
    ")*/\n",
    "\n",
    "\n",
    "val resultat_effectif = lignes.map(l => (extractField(l, 1),extractField(l, 4).toDouble.toInt))\n",
    "            .aggregateByKey((Int.MaxValue , Int.MinValue))(\n",
    "               { case ((k,u),v) => (k min v, u max v)    \n",
    "               },\n",
    "                { case ((k,u),(k1, u1)) => (k min k1, u max u1)    \n",
    "               },                \n",
    "            )\n",
    "\n",
    "resultat_effectif.take(10).foreach(println)"
   ]
  },
  {
   "cell_type": "markdown",
   "metadata": {},
   "source": [
    "1. Sur le modèle des prénoms, charger les données des départements\n",
    "1. Donner, pour chaque nom de département, le prénom le plus fréquent depuis l'année 2000"
   ]
  },
  {
   "cell_type": "code",
   "execution_count": 50,
   "metadata": {},
   "outputs": [
    {
     "ename": "<console>",
     "evalue": "43: error: value join is not a member of org.apache.spark.rdd.RDD[(Int, String, String)]",
     "output_type": "error",
     "traceback": [
      "<console>:43: error: value join is not a member of org.apache.spark.rdd.RDD[(Int, String, String)]",
      "       val v_join = class_a.join(class_b, class_a(\"dpt\") === class_b(\"dep\"))",
      "                            ^",
      "<console>:43: error: org.apache.spark.rdd.RDD[(Int, String, String)] does not take parameters",
      "       val v_join = class_a.join(class_b, class_a(\"dpt\") === class_b(\"dep\"))",
      "                                                 ^",
      "<console>:43: error: org.apache.spark.rdd.RDD[(String, String)] does not take parameters",
      "       val v_join = class_a.join(class_b, class_a(\"dpt\") === class_b(\"dep\"))",
      "                                                                    ^",
      ""
     ]
    }
   ],
   "source": [
    "//TODO\n",
    "val prenoms = sc.textFile(\"prenoms_sample.txt\")\n",
    "val departements = sc.textFile(\"dpts.txt\")\n",
    "\n",
    "val class_a = prenoms.map( z => (extractField(z, 3).toInt,extractField(z, 1),extractField(z, 4)))\n",
    "\n",
    "val class_b = departements.map(z => (extractField1(z, 0),extractField1(z, 6)))\n",
    "\n",
    "//val v_join = class_a.join(class_b)\n",
    "val v_join = class_a.join(class_b, class_a(\"dpt\") === class_b(\"dep\"))\n",
    "\n",
    "//class_b.take(10).foreach(println)\n",
    "v_join.take(10).foreach(println)\n",
    "\n",
    "\n"
   ]
  },
  {
   "cell_type": "code",
   "execution_count": 18,
   "metadata": {},
   "outputs": [],
   "source": [
    "//TODO"
   ]
  },
  {
   "cell_type": "code",
   "execution_count": null,
   "metadata": {},
   "outputs": [],
   "source": [
    "val class_b = departements.map(z => (extractField(z, 1)))\n",
    "val class_a = d.map(z => (extractField(z, 1)))\n",
    "\n",
    "val v_join = class_a.join(class_b).map({case(w,n)=>(n,w)}).sortByKey().top(1)"
   ]
  }
 ],
 "metadata": {
  "kernelspec": {
   "display_name": "spylon-kernel",
   "language": "scala",
   "name": "spylon-kernel"
  },
  "language_info": {
   "codemirror_mode": "text/x-scala",
   "file_extension": ".scala",
   "help_links": [
    {
     "text": "MetaKernel Magics",
     "url": "https://metakernel.readthedocs.io/en/latest/source/README.html"
    }
   ],
   "mimetype": "text/x-scala",
   "name": "scala",
   "pygments_lexer": "scala",
   "version": "0.4.1"
  }
 },
 "nbformat": 4,
 "nbformat_minor": 2
}
