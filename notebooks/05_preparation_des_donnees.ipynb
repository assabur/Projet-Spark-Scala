{
 "cells": [
  {
   "cell_type": "markdown",
   "metadata": {},
   "source": [
    "# Vérifier le contenu du fichier"
   ]
  },
  {
   "cell_type": "code",
   "execution_count": 6,
   "metadata": {},
   "outputs": [
    {
     "data": {
      "text/plain": [
       "prenoms: org.apache.spark.rdd.RDD[String] = prenoms.txt MapPartitionsRDD[18] at textFile at <console>:27\n",
       "res5: Array[String] = Array(2;JEANNINE;1956;46;6, 2;VIRGINIE;1978;86;82, 2;LOU-ANN;2001;91;4, 1;MICKAEL;1991;973;18, 1;MARVIN;2004;49;4, 2;LOUISA;1974;69;6, 1;JAYLAN;2015;972;3, 2;LAUREEN;2008;06;4, 1;GERMAIN;1946;60;3, 2;BINTOU;2011;78;5)\n"
      ]
     },
     "execution_count": 6,
     "metadata": {},
     "output_type": "execute_result"
    }
   ],
   "source": [
    "val prenoms = sc.textFile(\"prenoms.txt\")\n",
    "prenoms.takeSample(false, 10)"
   ]
  },
  {
   "cell_type": "markdown",
   "metadata": {},
   "source": [
    "# Extraire et sauvegarder un échantillon\n",
    "1. Expliquer ce que fait la ligne suivante"
   ]
  },
  {
   "cell_type": "code",
   "execution_count": 8,
   "metadata": {},
   "outputs": [],
   "source": [
    "prenoms.filter(l => l.startsWith(\"sexe\") == false).filter(l => l.contains(\"XX\") == false).sample(false, .001).saveAsTextFile(\"prenoms_sample.txt\")"
   ]
  },
  {
   "cell_type": "markdown",
   "metadata": {},
   "source": [
    "extraire les lignes du fichier prenom.txt de facon aléatoire en ignorant la première ligne et en ignorant les prenoms enregistré qui sont associé a une année inconnue.Ensuite un millième du resultat est traité et enregistré"
   ]
  },
  {
   "cell_type": "markdown",
   "metadata": {},
   "source": [
    "# Vérifier l'échantillon"
   ]
  },
  {
   "cell_type": "code",
   "execution_count": 9,
   "metadata": {},
   "outputs": [
    {
     "name": "stdout",
     "output_type": "stream",
     "text": [
      "3685\n",
      "0\n",
      "0\n"
     ]
    },
    {
     "data": {
      "text/plain": [
       "echantillon: org.apache.spark.rdd.RDD[String] = prenoms_sample.txt MapPartitionsRDD[29] at textFile at <console>:25\n"
      ]
     },
     "execution_count": 9,
     "metadata": {},
     "output_type": "execute_result"
    }
   ],
   "source": [
    "val echantillon = sc.textFile(\"prenoms_sample.txt\")\n",
    "println(echantillon.count)\n",
    "println(echantillon.filter(l => l.startsWith(\"sexe\")).count)\n",
    "println(echantillon.filter(l => l.contains(\"XX\")).count)"
   ]
  },
  {
   "cell_type": "code",
   "execution_count": null,
   "metadata": {},
   "outputs": [],
   "source": []
  }
 ],
 "metadata": {
  "kernelspec": {
   "display_name": "spylon-kernel",
   "language": "scala",
   "name": "spylon-kernel"
  },
  "language_info": {
   "codemirror_mode": "text/x-scala",
   "file_extension": ".scala",
   "help_links": [
    {
     "text": "MetaKernel Magics",
     "url": "https://metakernel.readthedocs.io/en/latest/source/README.html"
    }
   ],
   "mimetype": "text/x-scala",
   "name": "scala",
   "pygments_lexer": "scala",
   "version": "0.4.1"
  }
 },
 "nbformat": 4,
 "nbformat_minor": 2
}
